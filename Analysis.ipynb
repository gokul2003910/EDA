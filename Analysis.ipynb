{
 "cells": [
  {
   "cell_type": "code",
   "execution_count": 18,
   "id": "a910f074",
   "metadata": {},
   "outputs": [],
   "source": [
    "import pandas as pd\n",
    "import numpy as np\n",
    "import matplotlib.pyplot as plt\n",
    "import seaborn as sns"
   ]
  },
  {
   "cell_type": "code",
   "execution_count": 2,
   "id": "3dadb578",
   "metadata": {},
   "outputs": [],
   "source": [
    "df = pd.read_csv('Churn_Modelling.csv')"
   ]
  },
  {
   "cell_type": "code",
   "execution_count": 3,
   "id": "a8dc9091",
   "metadata": {},
   "outputs": [
    {
     "name": "stdout",
     "output_type": "stream",
     "text": [
      "<class 'pandas.core.frame.DataFrame'>\n",
      "RangeIndex: 10000 entries, 0 to 9999\n",
      "Data columns (total 14 columns):\n",
      " #   Column           Non-Null Count  Dtype  \n",
      "---  ------           --------------  -----  \n",
      " 0   RowNumber        10000 non-null  int64  \n",
      " 1   CustomerId       10000 non-null  int64  \n",
      " 2   Surname          10000 non-null  object \n",
      " 3   CreditScore      10000 non-null  int64  \n",
      " 4   Geography        10000 non-null  object \n",
      " 5   Gender           10000 non-null  object \n",
      " 6   Age              10000 non-null  int64  \n",
      " 7   Tenure           10000 non-null  int64  \n",
      " 8   Balance          10000 non-null  float64\n",
      " 9   NumOfProducts    10000 non-null  int64  \n",
      " 10  HasCrCard        10000 non-null  int64  \n",
      " 11  IsActiveMember   10000 non-null  int64  \n",
      " 12  EstimatedSalary  10000 non-null  float64\n",
      " 13  Exited           10000 non-null  int64  \n",
      "dtypes: float64(2), int64(9), object(3)\n",
      "memory usage: 1.1+ MB\n"
     ]
    }
   ],
   "source": [
    "df.info()"
   ]
  },
  {
   "cell_type": "code",
   "execution_count": 5,
   "id": "1e3fd43e",
   "metadata": {},
   "outputs": [
    {
     "data": {
      "text/plain": [
       "RowNumber          0\n",
       "CustomerId         0\n",
       "Surname            0\n",
       "CreditScore        0\n",
       "Geography          0\n",
       "Gender             0\n",
       "Age                0\n",
       "Tenure             0\n",
       "Balance            0\n",
       "NumOfProducts      0\n",
       "HasCrCard          0\n",
       "IsActiveMember     0\n",
       "EstimatedSalary    0\n",
       "Exited             0\n",
       "dtype: int64"
      ]
     },
     "execution_count": 5,
     "metadata": {},
     "output_type": "execute_result"
    }
   ],
   "source": [
    "# show them null values in the dataset\n",
    "df.isnull().sum()\n"
   ]
  },
  {
   "cell_type": "markdown",
   "id": "3073867b",
   "metadata": {},
   "source": [
    "Handling The Missing Values"
   ]
  },
  {
   "cell_type": "code",
   "execution_count": null,
   "id": "8eaa2e38",
   "metadata": {},
   "outputs": [],
   "source": [
    "1. # Handling The Missing Values use dropna function to remove columns with null values\n",
    "updated_df = df.dropna(axis=1)"
   ]
  },
  {
   "cell_type": "code",
   "execution_count": 7,
   "id": "b576273b",
   "metadata": {},
   "outputs": [
    {
     "name": "stdout",
     "output_type": "stream",
     "text": [
      "<class 'pandas.core.frame.DataFrame'>\n",
      "RangeIndex: 10000 entries, 0 to 9999\n",
      "Data columns (total 14 columns):\n",
      " #   Column           Non-Null Count  Dtype  \n",
      "---  ------           --------------  -----  \n",
      " 0   RowNumber        10000 non-null  int64  \n",
      " 1   CustomerId       10000 non-null  int64  \n",
      " 2   Surname          10000 non-null  object \n",
      " 3   CreditScore      10000 non-null  int64  \n",
      " 4   Geography        10000 non-null  object \n",
      " 5   Gender           10000 non-null  object \n",
      " 6   Age              10000 non-null  int64  \n",
      " 7   Tenure           10000 non-null  int64  \n",
      " 8   Balance          10000 non-null  float64\n",
      " 9   NumOfProducts    10000 non-null  int64  \n",
      " 10  HasCrCard        10000 non-null  int64  \n",
      " 11  IsActiveMember   10000 non-null  int64  \n",
      " 12  EstimatedSalary  10000 non-null  float64\n",
      " 13  Exited           10000 non-null  int64  \n",
      "dtypes: float64(2), int64(9), object(3)\n",
      "memory usage: 1.1+ MB\n"
     ]
    }
   ],
   "source": [
    "updated_df.info()"
   ]
  },
  {
   "cell_type": "code",
   "execution_count": null,
   "id": "dc6730a3",
   "metadata": {},
   "outputs": [],
   "source": [
    "2.# use dropna function to remove rows with null values\n",
    "updated_df= df.dropna(axis=0)"
   ]
  },
  {
   "cell_type": "code",
   "execution_count": 9,
   "id": "0dc93184",
   "metadata": {},
   "outputs": [
    {
     "name": "stdout",
     "output_type": "stream",
     "text": [
      "<class 'pandas.core.frame.DataFrame'>\n",
      "RangeIndex: 10000 entries, 0 to 9999\n",
      "Data columns (total 14 columns):\n",
      " #   Column           Non-Null Count  Dtype  \n",
      "---  ------           --------------  -----  \n",
      " 0   RowNumber        10000 non-null  int64  \n",
      " 1   CustomerId       10000 non-null  int64  \n",
      " 2   Surname          10000 non-null  object \n",
      " 3   CreditScore      10000 non-null  int64  \n",
      " 4   Geography        10000 non-null  object \n",
      " 5   Gender           10000 non-null  object \n",
      " 6   Age              10000 non-null  int64  \n",
      " 7   Tenure           10000 non-null  int64  \n",
      " 8   Balance          10000 non-null  float64\n",
      " 9   NumOfProducts    10000 non-null  int64  \n",
      " 10  HasCrCard        10000 non-null  int64  \n",
      " 11  IsActiveMember   10000 non-null  int64  \n",
      " 12  EstimatedSalary  10000 non-null  float64\n",
      " 13  Exited           10000 non-null  int64  \n",
      "dtypes: float64(2), int64(9), object(3)\n",
      "memory usage: 1.1+ MB\n"
     ]
    }
   ],
   "source": [
    "updated_df.info()"
   ]
  },
  {
   "cell_type": "markdown",
   "id": "98c4e3b0",
   "metadata": {},
   "source": [
    "3. Filling the Missing with Imputation\n",
    "\n",
    "   Filling the missing data with the mean or median value if it is numerical variable.\n",
    "   Filling the missing data with mode if it is categorical value.\n",
    "   Filling the numerical value with 0 or -999 or some other number that will not occur in the data. This can be done so that the machine recognize \n",
    "   that the data is not real or is different.\n",
    "   Filling the categorical value with a new type for the missing values."
   ]
  },
  {
   "cell_type": "code",
   "execution_count": 10,
   "id": "b86f1c73",
   "metadata": {},
   "outputs": [
    {
     "data": {
      "text/plain": [
       "38.9218"
      ]
     },
     "execution_count": 10,
     "metadata": {},
     "output_type": "execute_result"
    }
   ],
   "source": [
    "df['Age'].mean()"
   ]
  },
  {
   "cell_type": "code",
   "execution_count": 11,
   "id": "4fc9eb1f",
   "metadata": {},
   "outputs": [
    {
     "data": {
      "text/plain": [
       "37.0"
      ]
     },
     "execution_count": 11,
     "metadata": {},
     "output_type": "execute_result"
    }
   ],
   "source": [
    "df['Age'].median()"
   ]
  },
  {
   "cell_type": "code",
   "execution_count": null,
   "id": "ad2a37af",
   "metadata": {},
   "outputs": [
    {
     "name": "stdout",
     "output_type": "stream",
     "text": [
      "<class 'pandas.core.frame.DataFrame'>\n",
      "RangeIndex: 10000 entries, 0 to 9999\n",
      "Data columns (total 14 columns):\n",
      " #   Column           Non-Null Count  Dtype  \n",
      "---  ------           --------------  -----  \n",
      " 0   RowNumber        10000 non-null  int64  \n",
      " 1   CustomerId       10000 non-null  int64  \n",
      " 2   Surname          10000 non-null  object \n",
      " 3   CreditScore      10000 non-null  int64  \n",
      " 4   Geography        10000 non-null  object \n",
      " 5   Gender           10000 non-null  object \n",
      " 6   Age              10000 non-null  int64  \n",
      " 7   Tenure           10000 non-null  int64  \n",
      " 8   Balance          10000 non-null  float64\n",
      " 9   NumOfProducts    10000 non-null  int64  \n",
      " 10  HasCrCard        10000 non-null  int64  \n",
      " 11  IsActiveMember   10000 non-null  int64  \n",
      " 12  EstimatedSalary  10000 non-null  float64\n",
      " 13  Exited           10000 non-null  int64  \n",
      "dtypes: float64(2), int64(9), object(3)\n",
      "memory usage: 1.1+ MB\n"
     ]
    }
   ],
   "source": [
    "# filling the null values using fillna function\n",
    "# filling the numerical value with mean\n",
    "updated_df['Age']=updated_df['Age'].fillna(df['Age'].mean())\n",
    "updated_df.info()"
   ]
  },
  {
   "cell_type": "markdown",
   "id": "8cebc1ff",
   "metadata": {},
   "source": [
    "4. Backward and Forward Imputation"
   ]
  },
  {
   "cell_type": "code",
   "execution_count": 13,
   "id": "d4727be9",
   "metadata": {},
   "outputs": [],
   "source": [
    "df= pd.read_csv('Churn_Modelling.csv')"
   ]
  },
  {
   "cell_type": "code",
   "execution_count": 14,
   "id": "18b0d716",
   "metadata": {},
   "outputs": [
    {
     "name": "stdout",
     "output_type": "stream",
     "text": [
      "<class 'pandas.core.frame.DataFrame'>\n",
      "RangeIndex: 10000 entries, 0 to 9999\n",
      "Data columns (total 14 columns):\n",
      " #   Column           Non-Null Count  Dtype  \n",
      "---  ------           --------------  -----  \n",
      " 0   RowNumber        10000 non-null  int64  \n",
      " 1   CustomerId       10000 non-null  int64  \n",
      " 2   Surname          10000 non-null  object \n",
      " 3   CreditScore      10000 non-null  int64  \n",
      " 4   Geography        10000 non-null  object \n",
      " 5   Gender           10000 non-null  object \n",
      " 6   Age              10000 non-null  int64  \n",
      " 7   Tenure           10000 non-null  int64  \n",
      " 8   Balance          10000 non-null  float64\n",
      " 9   NumOfProducts    10000 non-null  int64  \n",
      " 10  HasCrCard        10000 non-null  int64  \n",
      " 11  IsActiveMember   10000 non-null  int64  \n",
      " 12  EstimatedSalary  10000 non-null  float64\n",
      " 13  Exited           10000 non-null  int64  \n",
      "dtypes: float64(2), int64(9), object(3)\n",
      "memory usage: 1.1+ MB\n"
     ]
    }
   ],
   "source": [
    "df.info()"
   ]
  },
  {
   "cell_type": "code",
   "execution_count": null,
   "id": "02037ad6",
   "metadata": {},
   "outputs": [
    {
     "data": {
      "text/plain": [
       "0       42\n",
       "1       41\n",
       "2       42\n",
       "3       39\n",
       "4       43\n",
       "        ..\n",
       "9995    39\n",
       "9996    35\n",
       "9997    36\n",
       "9998    42\n",
       "9999    28\n",
       "Name: Age, Length: 10000, dtype: int64"
      ]
     },
     "execution_count": 15,
     "metadata": {},
     "output_type": "execute_result"
    }
   ],
   "source": [
    "# filling the null values with forward fill method\n",
    "df['Age'].ffill()"
   ]
  },
  {
   "cell_type": "code",
   "execution_count": null,
   "id": "401d1e74",
   "metadata": {},
   "outputs": [
    {
     "data": {
      "text/plain": [
       "0       42\n",
       "1       41\n",
       "2       42\n",
       "3       39\n",
       "4       43\n",
       "        ..\n",
       "9995    39\n",
       "9996    35\n",
       "9997    36\n",
       "9998    42\n",
       "9999    28\n",
       "Name: Age, Length: 10000, dtype: int64"
      ]
     },
     "execution_count": 16,
     "metadata": {},
     "output_type": "execute_result"
    }
   ],
   "source": [
    "# filling the null values with backward fill method\n",
    "df['Age'].bfill()"
   ]
  },
  {
   "cell_type": "markdown",
   "id": "b588aded",
   "metadata": {},
   "source": [
    "Feature Scaling"
   ]
  },
  {
   "cell_type": "code",
   "execution_count": 17,
   "id": "3c6792cf",
   "metadata": {},
   "outputs": [
    {
     "name": "stdout",
     "output_type": "stream",
     "text": [
      "Requirement already satisfied: scikit-learn in c:\\users\\dell\\appdata\\roaming\\python\\python310\\site-packages (1.4.1.post1)\n",
      "Collecting scikit-learn\n",
      "  Downloading scikit_learn-1.7.0-cp310-cp310-win_amd64.whl.metadata (14 kB)\n",
      "Requirement already satisfied: numpy>=1.22.0 in c:\\users\\dell\\appdata\\roaming\\python\\python310\\site-packages (from scikit-learn) (1.26.4)\n",
      "Requirement already satisfied: scipy>=1.8.0 in c:\\users\\dell\\appdata\\roaming\\python\\python310\\site-packages (from scikit-learn) (1.12.0)\n",
      "Requirement already satisfied: joblib>=1.2.0 in c:\\users\\dell\\appdata\\roaming\\python\\python310\\site-packages (from scikit-learn) (1.3.2)\n",
      "Requirement already satisfied: threadpoolctl>=3.1.0 in c:\\users\\dell\\appdata\\roaming\\python\\python310\\site-packages (from scikit-learn) (3.4.0)\n",
      "Downloading scikit_learn-1.7.0-cp310-cp310-win_amd64.whl (10.7 MB)\n",
      "   ---------------------------------------- 0.0/10.7 MB ? eta -:--:--\n",
      "   ---------------------------------------- 0.0/10.7 MB ? eta -:--:--\n",
      "   - -------------------------------------- 0.5/10.7 MB 1.5 MB/s eta 0:00:07\n",
      "   -- ------------------------------------- 0.8/10.7 MB 1.2 MB/s eta 0:00:08\n",
      "   -- ------------------------------------- 0.8/10.7 MB 1.2 MB/s eta 0:00:08\n",
      "   -- ------------------------------------- 0.8/10.7 MB 1.2 MB/s eta 0:00:08\n",
      "   -- ------------------------------------- 0.8/10.7 MB 1.2 MB/s eta 0:00:08\n",
      "   -- ------------------------------------- 0.8/10.7 MB 1.2 MB/s eta 0:00:08\n",
      "   --- ------------------------------------ 1.0/10.7 MB 558.9 kB/s eta 0:00:18\n",
      "   ---- ----------------------------------- 1.3/10.7 MB 651.3 kB/s eta 0:00:15\n",
      "   ---- ----------------------------------- 1.3/10.7 MB 651.3 kB/s eta 0:00:15\n",
      "   ----- ---------------------------------- 1.6/10.7 MB 645.0 kB/s eta 0:00:15\n",
      "   ------ --------------------------------- 1.8/10.7 MB 680.0 kB/s eta 0:00:14\n",
      "   ------- -------------------------------- 2.1/10.7 MB 738.4 kB/s eta 0:00:12\n",
      "   -------- ------------------------------- 2.4/10.7 MB 758.2 kB/s eta 0:00:12\n",
      "   -------- ------------------------------- 2.4/10.7 MB 758.2 kB/s eta 0:00:12\n",
      "   --------- ------------------------------ 2.6/10.7 MB 770.3 kB/s eta 0:00:11\n",
      "   --------- ------------------------------ 2.6/10.7 MB 770.3 kB/s eta 0:00:11\n",
      "   ---------- ----------------------------- 2.9/10.7 MB 726.2 kB/s eta 0:00:11\n",
      "   ---------- ----------------------------- 2.9/10.7 MB 726.2 kB/s eta 0:00:11\n",
      "   ---------- ----------------------------- 2.9/10.7 MB 726.2 kB/s eta 0:00:11\n",
      "   ----------- ---------------------------- 3.1/10.7 MB 685.9 kB/s eta 0:00:12\n",
      "   ----------- ---------------------------- 3.1/10.7 MB 685.9 kB/s eta 0:00:12\n",
      "   ------------ --------------------------- 3.4/10.7 MB 680.2 kB/s eta 0:00:11\n",
      "   ------------ --------------------------- 3.4/10.7 MB 680.2 kB/s eta 0:00:11\n",
      "   ------------ --------------------------- 3.4/10.7 MB 680.2 kB/s eta 0:00:11\n",
      "   ------------- -------------------------- 3.7/10.7 MB 647.1 kB/s eta 0:00:11\n",
      "   ------------- -------------------------- 3.7/10.7 MB 647.1 kB/s eta 0:00:11\n",
      "   -------------- ------------------------- 3.9/10.7 MB 656.1 kB/s eta 0:00:11\n",
      "   -------------- ------------------------- 3.9/10.7 MB 656.1 kB/s eta 0:00:11\n",
      "   --------------- ------------------------ 4.2/10.7 MB 650.3 kB/s eta 0:00:11\n",
      "   --------------- ------------------------ 4.2/10.7 MB 650.3 kB/s eta 0:00:11\n",
      "   ---------------- ----------------------- 4.5/10.7 MB 640.6 kB/s eta 0:00:10\n",
      "   ---------------- ----------------------- 4.5/10.7 MB 640.6 kB/s eta 0:00:10\n",
      "   ---------------- ----------------------- 4.5/10.7 MB 640.6 kB/s eta 0:00:10\n",
      "   ----------------- ---------------------- 4.7/10.7 MB 624.1 kB/s eta 0:00:10\n",
      "   ----------------- ---------------------- 4.7/10.7 MB 624.1 kB/s eta 0:00:10\n",
      "   ----------------- ---------------------- 4.7/10.7 MB 624.1 kB/s eta 0:00:10\n",
      "   ------------------ --------------------- 5.0/10.7 MB 612.5 kB/s eta 0:00:10\n",
      "   ------------------ --------------------- 5.0/10.7 MB 612.5 kB/s eta 0:00:10\n",
      "   ------------------- -------------------- 5.2/10.7 MB 614.1 kB/s eta 0:00:09\n",
      "   ------------------- -------------------- 5.2/10.7 MB 614.1 kB/s eta 0:00:09\n",
      "   -------------------- ------------------- 5.5/10.7 MB 610.1 kB/s eta 0:00:09\n",
      "   -------------------- ------------------- 5.5/10.7 MB 610.1 kB/s eta 0:00:09\n",
      "   -------------------- ------------------- 5.5/10.7 MB 610.1 kB/s eta 0:00:09\n",
      "   -------------------- ------------------- 5.5/10.7 MB 610.1 kB/s eta 0:00:09\n",
      "   -------------------- ------------------- 5.5/10.7 MB 610.1 kB/s eta 0:00:09\n",
      "   --------------------- ------------------ 5.8/10.7 MB 572.8 kB/s eta 0:00:09\n",
      "   ---------------------- ----------------- 6.0/10.7 MB 580.3 kB/s eta 0:00:09\n",
      "   ---------------------- ----------------- 6.0/10.7 MB 580.3 kB/s eta 0:00:09\n",
      "   ----------------------- ---------------- 6.3/10.7 MB 582.0 kB/s eta 0:00:08\n",
      "   ----------------------- ---------------- 6.3/10.7 MB 582.0 kB/s eta 0:00:08\n",
      "   ----------------------- ---------------- 6.3/10.7 MB 582.0 kB/s eta 0:00:08\n",
      "   ----------------------- ---------------- 6.3/10.7 MB 582.0 kB/s eta 0:00:08\n",
      "   ----------------------- ---------------- 6.3/10.7 MB 582.0 kB/s eta 0:00:08\n",
      "   ----------------------- ---------------- 6.3/10.7 MB 582.0 kB/s eta 0:00:08\n",
      "   ----------------------- ---------------- 6.3/10.7 MB 582.0 kB/s eta 0:00:08\n",
      "   ------------------------ --------------- 6.6/10.7 MB 533.3 kB/s eta 0:00:08\n",
      "   ------------------------ --------------- 6.6/10.7 MB 533.3 kB/s eta 0:00:08\n",
      "   ------------------------ --------------- 6.6/10.7 MB 533.3 kB/s eta 0:00:08\n",
      "   ------------------------ --------------- 6.6/10.7 MB 533.3 kB/s eta 0:00:08\n",
      "   ------------------------ --------------- 6.6/10.7 MB 533.3 kB/s eta 0:00:08\n",
      "   ------------------------ --------------- 6.6/10.7 MB 533.3 kB/s eta 0:00:08\n",
      "   ------------------------- -------------- 6.8/10.7 MB 504.7 kB/s eta 0:00:08\n",
      "   ------------------------- -------------- 6.8/10.7 MB 504.7 kB/s eta 0:00:08\n",
      "   ------------------------- -------------- 6.8/10.7 MB 504.7 kB/s eta 0:00:08\n",
      "   -------------------------- ------------- 7.1/10.7 MB 499.7 kB/s eta 0:00:08\n",
      "   -------------------------- ------------- 7.1/10.7 MB 499.7 kB/s eta 0:00:08\n",
      "   -------------------------- ------------- 7.1/10.7 MB 499.7 kB/s eta 0:00:08\n",
      "   -------------------------- ------------- 7.1/10.7 MB 499.7 kB/s eta 0:00:08\n",
      "   -------------------------- ------------- 7.1/10.7 MB 499.7 kB/s eta 0:00:08\n",
      "   --------------------------- ------------ 7.3/10.7 MB 482.9 kB/s eta 0:00:07\n",
      "   ---------------------------- ----------- 7.6/10.7 MB 487.8 kB/s eta 0:00:07\n",
      "   ---------------------------- ----------- 7.6/10.7 MB 487.8 kB/s eta 0:00:07\n",
      "   ---------------------------- ----------- 7.6/10.7 MB 487.8 kB/s eta 0:00:07\n",
      "   ---------------------------- ----------- 7.6/10.7 MB 487.8 kB/s eta 0:00:07\n",
      "   ----------------------------- ---------- 7.9/10.7 MB 482.2 kB/s eta 0:00:06\n",
      "   ------------------------------ --------- 8.1/10.7 MB 487.2 kB/s eta 0:00:06\n",
      "   ------------------------------ --------- 8.1/10.7 MB 487.2 kB/s eta 0:00:06\n",
      "   ------------------------------ --------- 8.1/10.7 MB 487.2 kB/s eta 0:00:06\n",
      "   ------------------------------ --------- 8.1/10.7 MB 487.2 kB/s eta 0:00:06\n",
      "   ------------------------------- -------- 8.4/10.7 MB 481.6 kB/s eta 0:00:05\n",
      "   ------------------------------- -------- 8.4/10.7 MB 481.6 kB/s eta 0:00:05\n",
      "   -------------------------------- ------- 8.7/10.7 MB 483.2 kB/s eta 0:00:05\n",
      "   -------------------------------- ------- 8.7/10.7 MB 483.2 kB/s eta 0:00:05\n",
      "   -------------------------------- ------- 8.7/10.7 MB 483.2 kB/s eta 0:00:05\n",
      "   --------------------------------- ------ 8.9/10.7 MB 480.2 kB/s eta 0:00:04\n",
      "   --------------------------------- ------ 8.9/10.7 MB 480.2 kB/s eta 0:00:04\n",
      "   --------------------------------- ------ 8.9/10.7 MB 480.2 kB/s eta 0:00:04\n",
      "   --------------------------------- ------ 8.9/10.7 MB 480.2 kB/s eta 0:00:04\n",
      "   --------------------------------- ------ 8.9/10.7 MB 480.2 kB/s eta 0:00:04\n",
      "   --------------------------------- ------ 8.9/10.7 MB 480.2 kB/s eta 0:00:04\n",
      "   --------------------------------- ------ 8.9/10.7 MB 480.2 kB/s eta 0:00:04\n",
      "   ---------------------------------- ----- 9.2/10.7 MB 458.2 kB/s eta 0:00:04\n",
      "   ----------------------------------- ---- 9.4/10.7 MB 465.3 kB/s eta 0:00:03\n",
      "   ----------------------------------- ---- 9.4/10.7 MB 465.3 kB/s eta 0:00:03\n",
      "   ----------------------------------- ---- 9.4/10.7 MB 465.3 kB/s eta 0:00:03\n",
      "   ----------------------------------- ---- 9.4/10.7 MB 465.3 kB/s eta 0:00:03\n",
      "   ------------------------------------ --- 9.7/10.7 MB 461.0 kB/s eta 0:00:03\n",
      "   ------------------------------------ --- 9.7/10.7 MB 461.0 kB/s eta 0:00:03\n",
      "   ------------------------------------ --- 9.7/10.7 MB 461.0 kB/s eta 0:00:03\n",
      "   ------------------------------------- -- 10.0/10.7 MB 458.4 kB/s eta 0:00:02\n",
      "   ------------------------------------- -- 10.0/10.7 MB 458.4 kB/s eta 0:00:02\n",
      "   ------------------------------------- -- 10.0/10.7 MB 458.4 kB/s eta 0:00:02\n",
      "   -------------------------------------- - 10.2/10.7 MB 458.7 kB/s eta 0:00:02\n",
      "   -------------------------------------- - 10.2/10.7 MB 458.7 kB/s eta 0:00:02\n",
      "   -------------------------------------- - 10.2/10.7 MB 458.7 kB/s eta 0:00:02\n",
      "   -------------------------------------- - 10.2/10.7 MB 458.7 kB/s eta 0:00:02\n",
      "   -------------------------------------- - 10.2/10.7 MB 458.7 kB/s eta 0:00:02\n",
      "   ---------------------------------------  10.5/10.7 MB 448.8 kB/s eta 0:00:01\n",
      "   ---------------------------------------- 10.7/10.7 MB 451.6 kB/s eta 0:00:00\n",
      "Installing collected packages: scikit-learn\n",
      "  Attempting uninstall: scikit-learn\n",
      "    Found existing installation: scikit-learn 1.4.1.post1\n",
      "    Uninstalling scikit-learn-1.4.1.post1:\n",
      "      Successfully uninstalled scikit-learn-1.4.1.post1\n",
      "Successfully installed scikit-learn-1.7.0\n",
      "Note: you may need to restart the kernel to use updated packages.\n"
     ]
    },
    {
     "name": "stderr",
     "output_type": "stream",
     "text": [
      "  WARNING: Retrying (Retry(total=4, connect=None, read=None, redirect=None, status=None)) after connection broken by 'ReadTimeoutError(\"HTTPSConnectionPool(host='files.pythonhosted.org', port=443): Read timed out. (read timeout=15)\")': /packages/4c/bd/99c3ccb49946bd06318fe194a1c54fb7d57ac4fe1c2f4660d86b3a2adf64/scikit_learn-1.7.0-cp310-cp310-win_amd64.whl.metadata\n"
     ]
    }
   ],
   "source": [
    "pip install -U scikit-learn"
   ]
  },
  {
   "cell_type": "code",
   "execution_count": 19,
   "id": "56d2b246",
   "metadata": {},
   "outputs": [],
   "source": [
    "df = pd.read_csv('Churn_Modelling.csv')"
   ]
  },
  {
   "cell_type": "code",
   "execution_count": 20,
   "id": "263f406e",
   "metadata": {},
   "outputs": [
    {
     "name": "stdout",
     "output_type": "stream",
     "text": [
      "<class 'pandas.core.frame.DataFrame'>\n",
      "RangeIndex: 10000 entries, 0 to 9999\n",
      "Data columns (total 14 columns):\n",
      " #   Column           Non-Null Count  Dtype  \n",
      "---  ------           --------------  -----  \n",
      " 0   RowNumber        10000 non-null  int64  \n",
      " 1   CustomerId       10000 non-null  int64  \n",
      " 2   Surname          10000 non-null  object \n",
      " 3   CreditScore      10000 non-null  int64  \n",
      " 4   Geography        10000 non-null  object \n",
      " 5   Gender           10000 non-null  object \n",
      " 6   Age              10000 non-null  int64  \n",
      " 7   Tenure           10000 non-null  int64  \n",
      " 8   Balance          10000 non-null  float64\n",
      " 9   NumOfProducts    10000 non-null  int64  \n",
      " 10  HasCrCard        10000 non-null  int64  \n",
      " 11  IsActiveMember   10000 non-null  int64  \n",
      " 12  EstimatedSalary  10000 non-null  float64\n",
      " 13  Exited           10000 non-null  int64  \n",
      "dtypes: float64(2), int64(9), object(3)\n",
      "memory usage: 1.1+ MB\n"
     ]
    }
   ],
   "source": [
    "df.info()"
   ]
  },
  {
   "cell_type": "code",
   "execution_count": 21,
   "id": "3ee57cac",
   "metadata": {},
   "outputs": [],
   "source": [
    "from sklearn.preprocessing import StandardScaler\n",
    "from sklearn.preprocessing import MinMaxScaler"
   ]
  },
  {
   "cell_type": "code",
   "execution_count": 22,
   "id": "d20dd96a",
   "metadata": {},
   "outputs": [
    {
     "data": {
      "text/html": [
       "<div>\n",
       "<style scoped>\n",
       "    .dataframe tbody tr th:only-of-type {\n",
       "        vertical-align: middle;\n",
       "    }\n",
       "\n",
       "    .dataframe tbody tr th {\n",
       "        vertical-align: top;\n",
       "    }\n",
       "\n",
       "    .dataframe thead th {\n",
       "        text-align: right;\n",
       "    }\n",
       "</style>\n",
       "<table border=\"1\" class=\"dataframe\">\n",
       "  <thead>\n",
       "    <tr style=\"text-align: right;\">\n",
       "      <th></th>\n",
       "      <th>RowNumber</th>\n",
       "      <th>CustomerId</th>\n",
       "      <th>CreditScore</th>\n",
       "      <th>Age</th>\n",
       "      <th>Tenure</th>\n",
       "      <th>Balance</th>\n",
       "      <th>NumOfProducts</th>\n",
       "      <th>HasCrCard</th>\n",
       "      <th>IsActiveMember</th>\n",
       "      <th>EstimatedSalary</th>\n",
       "      <th>Exited</th>\n",
       "    </tr>\n",
       "  </thead>\n",
       "  <tbody>\n",
       "    <tr>\n",
       "      <th>count</th>\n",
       "      <td>10000.00</td>\n",
       "      <td>10000.00</td>\n",
       "      <td>10000.00</td>\n",
       "      <td>10000.00</td>\n",
       "      <td>10000.00</td>\n",
       "      <td>10000.00</td>\n",
       "      <td>10000.00</td>\n",
       "      <td>10000.00</td>\n",
       "      <td>10000.00</td>\n",
       "      <td>10000.00</td>\n",
       "      <td>10000.0</td>\n",
       "    </tr>\n",
       "    <tr>\n",
       "      <th>mean</th>\n",
       "      <td>5000.50</td>\n",
       "      <td>15690940.57</td>\n",
       "      <td>650.53</td>\n",
       "      <td>38.92</td>\n",
       "      <td>5.01</td>\n",
       "      <td>76485.89</td>\n",
       "      <td>1.53</td>\n",
       "      <td>0.71</td>\n",
       "      <td>0.52</td>\n",
       "      <td>100090.24</td>\n",
       "      <td>0.2</td>\n",
       "    </tr>\n",
       "    <tr>\n",
       "      <th>std</th>\n",
       "      <td>2886.90</td>\n",
       "      <td>71936.19</td>\n",
       "      <td>96.65</td>\n",
       "      <td>10.49</td>\n",
       "      <td>2.89</td>\n",
       "      <td>62397.41</td>\n",
       "      <td>0.58</td>\n",
       "      <td>0.46</td>\n",
       "      <td>0.50</td>\n",
       "      <td>57510.49</td>\n",
       "      <td>0.4</td>\n",
       "    </tr>\n",
       "    <tr>\n",
       "      <th>min</th>\n",
       "      <td>1.00</td>\n",
       "      <td>15565701.00</td>\n",
       "      <td>350.00</td>\n",
       "      <td>18.00</td>\n",
       "      <td>0.00</td>\n",
       "      <td>0.00</td>\n",
       "      <td>1.00</td>\n",
       "      <td>0.00</td>\n",
       "      <td>0.00</td>\n",
       "      <td>11.58</td>\n",
       "      <td>0.0</td>\n",
       "    </tr>\n",
       "    <tr>\n",
       "      <th>25%</th>\n",
       "      <td>2500.75</td>\n",
       "      <td>15628528.25</td>\n",
       "      <td>584.00</td>\n",
       "      <td>32.00</td>\n",
       "      <td>3.00</td>\n",
       "      <td>0.00</td>\n",
       "      <td>1.00</td>\n",
       "      <td>0.00</td>\n",
       "      <td>0.00</td>\n",
       "      <td>51002.11</td>\n",
       "      <td>0.0</td>\n",
       "    </tr>\n",
       "    <tr>\n",
       "      <th>50%</th>\n",
       "      <td>5000.50</td>\n",
       "      <td>15690738.00</td>\n",
       "      <td>652.00</td>\n",
       "      <td>37.00</td>\n",
       "      <td>5.00</td>\n",
       "      <td>97198.54</td>\n",
       "      <td>1.00</td>\n",
       "      <td>1.00</td>\n",
       "      <td>1.00</td>\n",
       "      <td>100193.92</td>\n",
       "      <td>0.0</td>\n",
       "    </tr>\n",
       "    <tr>\n",
       "      <th>75%</th>\n",
       "      <td>7500.25</td>\n",
       "      <td>15753233.75</td>\n",
       "      <td>718.00</td>\n",
       "      <td>44.00</td>\n",
       "      <td>7.00</td>\n",
       "      <td>127644.24</td>\n",
       "      <td>2.00</td>\n",
       "      <td>1.00</td>\n",
       "      <td>1.00</td>\n",
       "      <td>149388.25</td>\n",
       "      <td>0.0</td>\n",
       "    </tr>\n",
       "    <tr>\n",
       "      <th>max</th>\n",
       "      <td>10000.00</td>\n",
       "      <td>15815690.00</td>\n",
       "      <td>850.00</td>\n",
       "      <td>92.00</td>\n",
       "      <td>10.00</td>\n",
       "      <td>250898.09</td>\n",
       "      <td>4.00</td>\n",
       "      <td>1.00</td>\n",
       "      <td>1.00</td>\n",
       "      <td>199992.48</td>\n",
       "      <td>1.0</td>\n",
       "    </tr>\n",
       "  </tbody>\n",
       "</table>\n",
       "</div>"
      ],
      "text/plain": [
       "       RowNumber   CustomerId  CreditScore       Age    Tenure    Balance  \\\n",
       "count   10000.00     10000.00     10000.00  10000.00  10000.00   10000.00   \n",
       "mean     5000.50  15690940.57       650.53     38.92      5.01   76485.89   \n",
       "std      2886.90     71936.19        96.65     10.49      2.89   62397.41   \n",
       "min         1.00  15565701.00       350.00     18.00      0.00       0.00   \n",
       "25%      2500.75  15628528.25       584.00     32.00      3.00       0.00   \n",
       "50%      5000.50  15690738.00       652.00     37.00      5.00   97198.54   \n",
       "75%      7500.25  15753233.75       718.00     44.00      7.00  127644.24   \n",
       "max     10000.00  15815690.00       850.00     92.00     10.00  250898.09   \n",
       "\n",
       "       NumOfProducts  HasCrCard  IsActiveMember  EstimatedSalary   Exited  \n",
       "count       10000.00   10000.00        10000.00         10000.00  10000.0  \n",
       "mean            1.53       0.71            0.52        100090.24      0.2  \n",
       "std             0.58       0.46            0.50         57510.49      0.4  \n",
       "min             1.00       0.00            0.00            11.58      0.0  \n",
       "25%             1.00       0.00            0.00         51002.11      0.0  \n",
       "50%             1.00       1.00            1.00        100193.92      0.0  \n",
       "75%             2.00       1.00            1.00        149388.25      0.0  \n",
       "max             4.00       1.00            1.00        199992.48      1.0  "
      ]
     },
     "execution_count": 22,
     "metadata": {},
     "output_type": "execute_result"
    }
   ],
   "source": [
    "df.describe().round(2)"
   ]
  },
  {
   "cell_type": "code",
   "execution_count": 23,
   "id": "2e1bcfdf",
   "metadata": {},
   "outputs": [],
   "source": [
    "# select the two column for feature scaling\n",
    "new_df = pd.DataFrame(df, columns=['Age','Tenure'])"
   ]
  },
  {
   "cell_type": "code",
   "execution_count": 24,
   "id": "47627de1",
   "metadata": {},
   "outputs": [
    {
     "data": {
      "text/html": [
       "<div>\n",
       "<style scoped>\n",
       "    .dataframe tbody tr th:only-of-type {\n",
       "        vertical-align: middle;\n",
       "    }\n",
       "\n",
       "    .dataframe tbody tr th {\n",
       "        vertical-align: top;\n",
       "    }\n",
       "\n",
       "    .dataframe thead th {\n",
       "        text-align: right;\n",
       "    }\n",
       "</style>\n",
       "<table border=\"1\" class=\"dataframe\">\n",
       "  <thead>\n",
       "    <tr style=\"text-align: right;\">\n",
       "      <th></th>\n",
       "      <th>Age</th>\n",
       "      <th>Tenure</th>\n",
       "    </tr>\n",
       "  </thead>\n",
       "  <tbody>\n",
       "    <tr>\n",
       "      <th>0</th>\n",
       "      <td>42</td>\n",
       "      <td>2</td>\n",
       "    </tr>\n",
       "    <tr>\n",
       "      <th>1</th>\n",
       "      <td>41</td>\n",
       "      <td>1</td>\n",
       "    </tr>\n",
       "    <tr>\n",
       "      <th>2</th>\n",
       "      <td>42</td>\n",
       "      <td>8</td>\n",
       "    </tr>\n",
       "    <tr>\n",
       "      <th>3</th>\n",
       "      <td>39</td>\n",
       "      <td>1</td>\n",
       "    </tr>\n",
       "    <tr>\n",
       "      <th>4</th>\n",
       "      <td>43</td>\n",
       "      <td>2</td>\n",
       "    </tr>\n",
       "  </tbody>\n",
       "</table>\n",
       "</div>"
      ],
      "text/plain": [
       "   Age  Tenure\n",
       "0   42       2\n",
       "1   41       1\n",
       "2   42       8\n",
       "3   39       1\n",
       "4   43       2"
      ]
     },
     "execution_count": 24,
     "metadata": {},
     "output_type": "execute_result"
    }
   ],
   "source": [
    "new_df.head()"
   ]
  },
  {
   "cell_type": "code",
   "execution_count": 25,
   "id": "22510eaf",
   "metadata": {},
   "outputs": [
    {
     "data": {
      "text/plain": [
       "0       42\n",
       "1       41\n",
       "2       42\n",
       "3       39\n",
       "4       43\n",
       "        ..\n",
       "9995    39\n",
       "9996    35\n",
       "9997    36\n",
       "9998    42\n",
       "9999    28\n",
       "Name: Age, Length: 10000, dtype: int64"
      ]
     },
     "execution_count": 25,
     "metadata": {},
     "output_type": "execute_result"
    }
   ],
   "source": [
    "new_df['Age'].fillna(new_df['Age'].mean())"
   ]
  },
  {
   "cell_type": "code",
   "execution_count": 26,
   "id": "d5aebaac",
   "metadata": {},
   "outputs": [
    {
     "data": {
      "text/plain": [
       "array([[0.32432432, 0.2       ],\n",
       "       [0.31081081, 0.1       ],\n",
       "       [0.32432432, 0.8       ],\n",
       "       ...,\n",
       "       [0.24324324, 0.7       ],\n",
       "       [0.32432432, 0.3       ],\n",
       "       [0.13513514, 0.4       ]])"
      ]
     },
     "execution_count": 26,
     "metadata": {},
     "output_type": "execute_result"
    }
   ],
   "source": [
    "scaler = MinMaxScaler()\n",
    "normalized_df = scaler.fit_transform(new_df)\n",
    "normalized_df"
   ]
  },
  {
   "cell_type": "code",
   "execution_count": 27,
   "id": "f6af4133",
   "metadata": {},
   "outputs": [
    {
     "data": {
      "text/plain": [
       "array([[0.  ],\n",
       "       [0.25],\n",
       "       [0.75],\n",
       "       [1.  ],\n",
       "       [1.  ]])"
      ]
     },
     "execution_count": 27,
     "metadata": {},
     "output_type": "execute_result"
    }
   ],
   "source": [
    "x_array = np.array([[2],[3],[5],[6],[6]])\n",
    "\n",
    "scaler = MinMaxScaler()\n",
    "normalized_arr= scaler.fit_transform(x_array)\n",
    "normalized_arr"
   ]
  },
  {
   "cell_type": "markdown",
   "id": "4ab7bf7d",
   "metadata": {},
   "source": [
    "STANDARDIZATION"
   ]
  },
  {
   "cell_type": "code",
   "execution_count": 28,
   "id": "0aaf4c7f",
   "metadata": {},
   "outputs": [
    {
     "data": {
      "text/plain": [
       "array([[ 0.29351742, -1.04175968],\n",
       "       [ 0.19816383, -1.38753759],\n",
       "       [ 0.29351742,  1.03290776],\n",
       "       ...,\n",
       "       [-0.27860412,  0.68712986],\n",
       "       [ 0.29351742, -0.69598177],\n",
       "       [-1.04143285, -0.35020386]])"
      ]
     },
     "execution_count": 28,
     "metadata": {},
     "output_type": "execute_result"
    }
   ],
   "source": [
    "scaler = StandardScaler()\n",
    "standardized_df = scaler.fit_transform(new_df)\n",
    "standardized_df"
   ]
  },
  {
   "cell_type": "code",
   "execution_count": 29,
   "id": "d2601f84",
   "metadata": {},
   "outputs": [
    {
     "data": {
      "text/plain": [
       "array([[-1.47709789],\n",
       "       [-0.86164044],\n",
       "       [ 0.36927447],\n",
       "       [ 0.98473193],\n",
       "       [ 0.98473193]])"
      ]
     },
     "execution_count": 29,
     "metadata": {},
     "output_type": "execute_result"
    }
   ],
   "source": [
    "x_array = np.array([[2],[3],[5],[6],[6]])\n",
    "\n",
    "scaler = StandardScaler()\n",
    "Standardized_arr= scaler.fit_transform(x_array)\n",
    "Standardized_arr"
   ]
  },
  {
   "cell_type": "markdown",
   "id": "c87c14ed",
   "metadata": {},
   "source": []
  },
  {
   "cell_type": "markdown",
   "id": "461f33f2",
   "metadata": {},
   "source": [
    "Outliers"
   ]
  },
  {
   "cell_type": "code",
   "execution_count": 30,
   "id": "53492361",
   "metadata": {},
   "outputs": [],
   "source": [
    "import matplotlib.pyplot as plt\n",
    "import seaborn as sns\n",
    "import numpy as np\n",
    "import pandas as pd\n",
    "import statistics"
   ]
  },
  {
   "cell_type": "code",
   "execution_count": 31,
   "id": "d7acc2dd",
   "metadata": {},
   "outputs": [],
   "source": [
    "data = pd.read_csv('raw_sales.csv')"
   ]
  },
  {
   "cell_type": "code",
   "execution_count": 32,
   "id": "954ea899",
   "metadata": {},
   "outputs": [
    {
     "data": {
      "text/html": [
       "<div>\n",
       "<style scoped>\n",
       "    .dataframe tbody tr th:only-of-type {\n",
       "        vertical-align: middle;\n",
       "    }\n",
       "\n",
       "    .dataframe tbody tr th {\n",
       "        vertical-align: top;\n",
       "    }\n",
       "\n",
       "    .dataframe thead th {\n",
       "        text-align: right;\n",
       "    }\n",
       "</style>\n",
       "<table border=\"1\" class=\"dataframe\">\n",
       "  <thead>\n",
       "    <tr style=\"text-align: right;\">\n",
       "      <th></th>\n",
       "      <th>datesold</th>\n",
       "      <th>postcode</th>\n",
       "      <th>price</th>\n",
       "      <th>propertyType</th>\n",
       "      <th>bedrooms</th>\n",
       "    </tr>\n",
       "  </thead>\n",
       "  <tbody>\n",
       "    <tr>\n",
       "      <th>0</th>\n",
       "      <td>2007-02-07 00:00:00</td>\n",
       "      <td>2607</td>\n",
       "      <td>525000</td>\n",
       "      <td>house</td>\n",
       "      <td>4</td>\n",
       "    </tr>\n",
       "    <tr>\n",
       "      <th>1</th>\n",
       "      <td>2007-02-27 00:00:00</td>\n",
       "      <td>2906</td>\n",
       "      <td>290000</td>\n",
       "      <td>house</td>\n",
       "      <td>3</td>\n",
       "    </tr>\n",
       "    <tr>\n",
       "      <th>2</th>\n",
       "      <td>2007-03-07 00:00:00</td>\n",
       "      <td>2905</td>\n",
       "      <td>328000</td>\n",
       "      <td>house</td>\n",
       "      <td>3</td>\n",
       "    </tr>\n",
       "    <tr>\n",
       "      <th>3</th>\n",
       "      <td>2007-03-09 00:00:00</td>\n",
       "      <td>2905</td>\n",
       "      <td>380000</td>\n",
       "      <td>house</td>\n",
       "      <td>4</td>\n",
       "    </tr>\n",
       "    <tr>\n",
       "      <th>4</th>\n",
       "      <td>2007-03-21 00:00:00</td>\n",
       "      <td>2906</td>\n",
       "      <td>310000</td>\n",
       "      <td>house</td>\n",
       "      <td>3</td>\n",
       "    </tr>\n",
       "  </tbody>\n",
       "</table>\n",
       "</div>"
      ],
      "text/plain": [
       "              datesold  postcode   price propertyType  bedrooms\n",
       "0  2007-02-07 00:00:00      2607  525000        house         4\n",
       "1  2007-02-27 00:00:00      2906  290000        house         3\n",
       "2  2007-03-07 00:00:00      2905  328000        house         3\n",
       "3  2007-03-09 00:00:00      2905  380000        house         4\n",
       "4  2007-03-21 00:00:00      2906  310000        house         3"
      ]
     },
     "execution_count": 32,
     "metadata": {},
     "output_type": "execute_result"
    }
   ],
   "source": [
    "data.head()"
   ]
  },
  {
   "cell_type": "code",
   "execution_count": 36,
   "id": "858e12b1",
   "metadata": {},
   "outputs": [],
   "source": [
    "# Function to Detection Outlier on one-dimentional datasets.\n",
    "def find_anomalies(data):\n",
    "    #define a list to accumlate anomalies\n",
    "    anomalies = []\n",
    "    \n",
    "    # Set upper and lower limit to 3 standard deviation\n",
    "    random_data_std = statistics.stdev(data)\n",
    "    random_data_mean = statistics.mean(data)\n",
    "    # 3-standard deviation\n",
    "    \n",
    "    anomaly_cut_off = random_data_std * 3\n",
    "    \n",
    "    lower_limit  = random_data_mean - anomaly_cut_off \n",
    "    upper_limit = random_data_mean + anomaly_cut_off\n",
    "    \n",
    "    # Generate outliers\n",
    "    for outlier in data:\n",
    "        if outlier > upper_limit or outlier < lower_limit:\n",
    "            anomalies.append(outlier)\n",
    "    return anomalies"
   ]
  },
  {
   "cell_type": "code",
   "execution_count": 37,
   "id": "b65c07cb",
   "metadata": {},
   "outputs": [
    {
     "data": {
      "text/plain": [
       "0        525000\n",
       "1        290000\n",
       "2        328000\n",
       "3        380000\n",
       "4        310000\n",
       "          ...  \n",
       "29575    500000\n",
       "29576    560000\n",
       "29577    464950\n",
       "29578    589000\n",
       "29579    775000\n",
       "Name: price, Length: 29580, dtype: int64"
      ]
     },
     "execution_count": 37,
     "metadata": {},
     "output_type": "execute_result"
    }
   ],
   "source": [
    "data.price"
   ]
  },
  {
   "cell_type": "code",
   "execution_count": 39,
   "id": "73d1bd1f",
   "metadata": {},
   "outputs": [
    {
     "data": {
      "text/plain": [
       "[1530000,\n",
       " 1780000,\n",
       " 1460000,\n",
       " 3500000,\n",
       " 2100000,\n",
       " 1580000,\n",
       " 2600000,\n",
       " 1875000,\n",
       " 2200000,\n",
       " 1620000,\n",
       " 1562500,\n",
       " 2350000,\n",
       " 1580000,\n",
       " 7300000,\n",
       " 1670000,\n",
       " 1780000,\n",
       " 2400000,\n",
       " 1530000,\n",
       " 1567140,\n",
       " 1700000,\n",
       " 1675000,\n",
       " 2060000,\n",
       " 1750000,\n",
       " 1500000,\n",
       " 1725000,\n",
       " 1455000,\n",
       " 2000000,\n",
       " 1475000,\n",
       " 4150000,\n",
       " 1780000,\n",
       " 1650000,\n",
       " 2500000,\n",
       " 5425000,\n",
       " 2200000,\n",
       " 2375000,\n",
       " 2100000,\n",
       " 1950000,\n",
       " 1980000,\n",
       " 1525000,\n",
       " 1900000,\n",
       " 1460000,\n",
       " 1500000,\n",
       " 1500000,\n",
       " 2760000,\n",
       " 1550000,\n",
       " 1605000,\n",
       " 1730000,\n",
       " 1650000,\n",
       " 1575000,\n",
       " 1530000,\n",
       " 1510000,\n",
       " 1501000,\n",
       " 1880000,\n",
       " 1620000,\n",
       " 1650000,\n",
       " 1470000,\n",
       " 1495000,\n",
       " 1600000,\n",
       " 1910000,\n",
       " 1485000,\n",
       " 1965000,\n",
       " 1640000,\n",
       " 1777500,\n",
       " 1500000,\n",
       " 1480000,\n",
       " 1650000,\n",
       " 1625000,\n",
       " 1540000,\n",
       " 2600000,\n",
       " 1900000,\n",
       " 3160000,\n",
       " 1975000,\n",
       " 1555000,\n",
       " 1900000,\n",
       " 1785000,\n",
       " 1701000,\n",
       " 1510000,\n",
       " 2080000,\n",
       " 3400000,\n",
       " 2050000,\n",
       " 1510000,\n",
       " 2550000,\n",
       " 1900000,\n",
       " 1801000,\n",
       " 1950000,\n",
       " 3400000,\n",
       " 1650000,\n",
       " 1915000,\n",
       " 1870000,\n",
       " 1560000,\n",
       " 2400000,\n",
       " 2090000,\n",
       " 1490000,\n",
       " 1670000,\n",
       " 1550000,\n",
       " 1560000,\n",
       " 1700000,\n",
       " 1800000,\n",
       " 1900000,\n",
       " 1710000,\n",
       " 1475000,\n",
       " 2125000,\n",
       " 1600000,\n",
       " 1675000,\n",
       " 1952500,\n",
       " 1670000,\n",
       " 1665000,\n",
       " 2150000,\n",
       " 1460000,\n",
       " 1715000,\n",
       " 1750000,\n",
       " 1750000,\n",
       " 2100000,\n",
       " 1800000,\n",
       " 2200000,\n",
       " 1740000,\n",
       " 1730000,\n",
       " 1800000,\n",
       " 1900000,\n",
       " 1550000,\n",
       " 1600000,\n",
       " 2170000,\n",
       " 2225000,\n",
       " 1884800,\n",
       " 2050000,\n",
       " 1635000,\n",
       " 1860000,\n",
       " 2450000,\n",
       " 1570000,\n",
       " 1535000,\n",
       " 1500000,\n",
       " 2660000,\n",
       " 1470000,\n",
       " 2010000,\n",
       " 2250000,\n",
       " 8000000,\n",
       " 1705000,\n",
       " 2090000,\n",
       " 2202000,\n",
       " 2322000,\n",
       " 1470000,\n",
       " 1500000,\n",
       " 2100000,\n",
       " 1700000,\n",
       " 1480000,\n",
       " 1496000,\n",
       " 1625000,\n",
       " 1800000,\n",
       " 1720000,\n",
       " 2320000,\n",
       " 1510000,\n",
       " 2440000,\n",
       " 1725000,\n",
       " 2300000,\n",
       " 2200000,\n",
       " 1850000,\n",
       " 1800000,\n",
       " 1850000,\n",
       " 1860000,\n",
       " 1470000,\n",
       " 1525000,\n",
       " 2585000,\n",
       " 1585000,\n",
       " 1900000,\n",
       " 1500000,\n",
       " 1640000,\n",
       " 1515000,\n",
       " 1903500,\n",
       " 1965000,\n",
       " 1701000,\n",
       " 1530000,\n",
       " 1680000,\n",
       " 2050000,\n",
       " 1495000,\n",
       " 1565000,\n",
       " 1475000,\n",
       " 1465000,\n",
       " 1580000,\n",
       " 1655000,\n",
       " 1580000,\n",
       " 3950000,\n",
       " 1670000,\n",
       " 1520000,\n",
       " 1885000,\n",
       " 1750000,\n",
       " 1910000,\n",
       " 1630000,\n",
       " 1550000,\n",
       " 1610000,\n",
       " 1590000,\n",
       " 1610000,\n",
       " 2100000,\n",
       " 1500000,\n",
       " 1770000,\n",
       " 1800000,\n",
       " 1457000,\n",
       " 2595000,\n",
       " 1800000,\n",
       " 1600000,\n",
       " 1520000,\n",
       " 2206000,\n",
       " 2425000,\n",
       " 1467000,\n",
       " 1495000,\n",
       " 1660000,\n",
       " 1810000,\n",
       " 1840000,\n",
       " 1530000,\n",
       " 3625000,\n",
       " 1655000,\n",
       " 6480000,\n",
       " 5475000,\n",
       " 1720000,\n",
       " 1910000,\n",
       " 2520000,\n",
       " 4417000,\n",
       " 1475000,\n",
       " 1960000,\n",
       " 1480000,\n",
       " 1530000,\n",
       " 2300000,\n",
       " 2230000,\n",
       " 1525000,\n",
       " 1749000,\n",
       " 2470000,\n",
       " 1600000,\n",
       " 2225000,\n",
       " 1600000,\n",
       " 2030000,\n",
       " 1580000,\n",
       " 1650000,\n",
       " 3000000,\n",
       " 1550000,\n",
       " 1458000,\n",
       " 1700000,\n",
       " 2400000,\n",
       " 1547000,\n",
       " 1560000,\n",
       " 1628000,\n",
       " 1675000,\n",
       " 2075000,\n",
       " 1975000,\n",
       " 1630000,\n",
       " 1615000,\n",
       " 1625000,\n",
       " 2000000,\n",
       " 1830000,\n",
       " 2275000,\n",
       " 1650000,\n",
       " 2475000,\n",
       " 1800000,\n",
       " 1520000,\n",
       " 1495000,\n",
       " 1455000,\n",
       " 1475000,\n",
       " 1600000,\n",
       " 2570000,\n",
       " 1900000,\n",
       " 2250000,\n",
       " 1476000,\n",
       " 1925000,\n",
       " 2485000,\n",
       " 1780000,\n",
       " 2040000,\n",
       " 1600000,\n",
       " 1870000,\n",
       " 2160000,\n",
       " 1550000,\n",
       " 1485000,\n",
       " 1550000,\n",
       " 1694000,\n",
       " 1541000,\n",
       " 1470000,\n",
       " 3500000,\n",
       " 2150000,\n",
       " 2200000,\n",
       " 1490000,\n",
       " 2170000,\n",
       " 1610000,\n",
       " 1701000,\n",
       " 2250000,\n",
       " 2105000,\n",
       " 1515000,\n",
       " 2035000,\n",
       " 2150000,\n",
       " 1480000,\n",
       " 1600000,\n",
       " 4220000,\n",
       " 1950000,\n",
       " 1685000,\n",
       " 2900000,\n",
       " 1950000,\n",
       " 2875000,\n",
       " 1925000,\n",
       " 1550000,\n",
       " 1675000,\n",
       " 1710000,\n",
       " 1460000,\n",
       " 2075000,\n",
       " 1511000,\n",
       " 1892000,\n",
       " 2200000,\n",
       " 1665000,\n",
       " 1825000,\n",
       " 1690000,\n",
       " 2252750,\n",
       " 1543000,\n",
       " 2235000,\n",
       " 1460000,\n",
       " 1775000,\n",
       " 1500000,\n",
       " 1595000,\n",
       " 1630000,\n",
       " 2950000,\n",
       " 1875000,\n",
       " 1520000,\n",
       " 1730000,\n",
       " 1880000,\n",
       " 1500000,\n",
       " 1841000,\n",
       " 2250000,\n",
       " 4700000,\n",
       " 1985000,\n",
       " 1505000,\n",
       " 1670000,\n",
       " 1690000,\n",
       " 3160000,\n",
       " 1470000,\n",
       " 2500000,\n",
       " 2120000,\n",
       " 2970000,\n",
       " 1510000,\n",
       " 1600000,\n",
       " 1840000,\n",
       " 2125000,\n",
       " 2925000,\n",
       " 1850000,\n",
       " 1675000,\n",
       " 3050000,\n",
       " 1570000,\n",
       " 2600000,\n",
       " 1759000,\n",
       " 1650000,\n",
       " 1840000,\n",
       " 1465000,\n",
       " 2800000,\n",
       " 1490000,\n",
       " 1630000,\n",
       " 1870000,\n",
       " 1513000,\n",
       " 1600000,\n",
       " 1680000,\n",
       " 1700000,\n",
       " 1750000,\n",
       " 2250000,\n",
       " 1620000,\n",
       " 1465000,\n",
       " 2335000,\n",
       " 2150000,\n",
       " 1750000,\n",
       " 1760000,\n",
       " 3750000,\n",
       " 1605000,\n",
       " 2900000,\n",
       " 1801000,\n",
       " 1955000,\n",
       " 1560000,\n",
       " 2050000,\n",
       " 2285000,\n",
       " 1550000,\n",
       " 1460000,\n",
       " 1641000,\n",
       " 1699000,\n",
       " 1525000,\n",
       " 1575000,\n",
       " 2740000,\n",
       " 2950000,\n",
       " 2130000,\n",
       " 2200000,\n",
       " 1625000,\n",
       " 1870000,\n",
       " 1610000,\n",
       " 1550000,\n",
       " 1880000,\n",
       " 1500000,\n",
       " 1650000,\n",
       " 1845000,\n",
       " 1770000,\n",
       " 1550000,\n",
       " 1680000,\n",
       " 1500000,\n",
       " 1550000,\n",
       " 1578000,\n",
       " 1931000,\n",
       " 1500000,\n",
       " 1500000,\n",
       " 1510000,\n",
       " 2701000,\n",
       " 1700000,\n",
       " 1467000,\n",
       " 1470000,\n",
       " 1800000,\n",
       " 1720000,\n",
       " 1490000,\n",
       " 2500000,\n",
       " 1554000,\n",
       " 2610000,\n",
       " 1950000,\n",
       " 1560000,\n",
       " 1590000,\n",
       " 2250000,\n",
       " 1600000,\n",
       " 1510000,\n",
       " 1598000,\n",
       " 1730000,\n",
       " 1860000,\n",
       " 1540000,\n",
       " 1625000,\n",
       " 1770000,\n",
       " 1580000,\n",
       " 1522500,\n",
       " 1840000,\n",
       " 2575000,\n",
       " 1500000,\n",
       " 1700000,\n",
       " 1675000,\n",
       " 1480000,\n",
       " 2190000,\n",
       " 1500000,\n",
       " 1735000,\n",
       " 1500000,\n",
       " 2195000,\n",
       " 1975000,\n",
       " 1461000,\n",
       " 1630000,\n",
       " 1770000,\n",
       " 1701000,\n",
       " 1550000,\n",
       " 1590000,\n",
       " 1650000,\n",
       " 1520000,\n",
       " 1700000,\n",
       " 1575000,\n",
       " 1649000,\n",
       " 1525000,\n",
       " 1900000,\n",
       " 1570000,\n",
       " 4500000,\n",
       " 1462000,\n",
       " 2425000,\n",
       " 1555000,\n",
       " 1490000,\n",
       " 1575000,\n",
       " 1980000,\n",
       " 2500000,\n",
       " 1550000,\n",
       " 1469900,\n",
       " 1495000,\n",
       " 1495000,\n",
       " 2280000,\n",
       " 1562500]"
      ]
     },
     "execution_count": 39,
     "metadata": {},
     "output_type": "execute_result"
    }
   ],
   "source": [
    "list_1 = find_anomalies(data.price)\n",
    "list_1\n"
   ]
  },
  {
   "cell_type": "code",
   "execution_count": 40,
   "id": "d099e3c0",
   "metadata": {},
   "outputs": [
    {
     "name": "stdout",
     "output_type": "stream",
     "text": [
      "461\n"
     ]
    }
   ],
   "source": [
    "print(len(list_1))"
   ]
  },
  {
   "cell_type": "code",
   "execution_count": 41,
   "id": "97e759ce",
   "metadata": {},
   "outputs": [
    {
     "data": {
      "text/plain": [
       "4.312009366902366"
      ]
     },
     "execution_count": 41,
     "metadata": {},
     "output_type": "execute_result"
    }
   ],
   "source": [
    "data.price.skew()"
   ]
  },
  {
   "cell_type": "code",
   "execution_count": 42,
   "id": "80a23ee8",
   "metadata": {},
   "outputs": [
    {
     "data": {
      "text/plain": [
       "<Axes: xlabel='price', ylabel='Density'>"
      ]
     },
     "execution_count": 42,
     "metadata": {},
     "output_type": "execute_result"
    },
    {
     "data": {
      "image/png": "[encoded data removed]",
      "text/plain": [
       "<Figure size 640x480 with 1 Axes>"
      ]
     },
     "metadata": {},
     "output_type": "display_data"
    }
   ],
   "source": [
    "sns.kdeplot(data.price)"
   ]
  },
  {
   "cell_type": "code",
   "execution_count": 43,
   "id": "694b2ae4",
   "metadata": {},
   "outputs": [],
   "source": [
    "data['price_transformed']= np.log(data.price)"
   ]
  },
  {
   "cell_type": "code",
   "execution_count": 44,
   "id": "b2362d54",
   "metadata": {},
   "outputs": [
    {
     "data": {
      "text/plain": [
       "0.4731646269984763"
      ]
     },
     "execution_count": 44,
     "metadata": {},
     "output_type": "execute_result"
    }
   ],
   "source": [
    "data.price_transformed.skew()"
   ]
  },
  {
   "cell_type": "code",
   "execution_count": 45,
   "id": "84e8df21",
   "metadata": {},
   "outputs": [],
   "source": [
    "list_2 = find_anomalies(data.price_transformed)"
   ]
  },
  {
   "cell_type": "code",
   "execution_count": 46,
   "id": "515c27a0",
   "metadata": {},
   "outputs": [
    {
     "data": {
      "text/plain": [
       "266"
      ]
     },
     "execution_count": 46,
     "metadata": {},
     "output_type": "execute_result"
    }
   ],
   "source": [
    "len(list_2)"
   ]
  },
  {
   "cell_type": "code",
   "execution_count": 48,
   "id": "61213d10",
   "metadata": {},
   "outputs": [
    {
     "data": {
      "text/plain": [
       "<Axes: xlabel='price_transformed', ylabel='Density'>"
      ]
     },
     "execution_count": 48,
     "metadata": {},
     "output_type": "execute_result"
    },
    {
     "data": {
      "image/png": "[encoded data removed]",
      "text/plain": [
       "<Figure size 640x480 with 1 Axes>"
      ]
     },
     "metadata": {},
     "output_type": "display_data"
    }
   ],
   "source": [
    "sns.kdeplot(data.price_transformed)"
   ]
  },
  {
   "cell_type": "code",
   "execution_count": 52,
   "id": "a63aa8dc",
   "metadata": {},
   "outputs": [],
   "source": [
    "data['price_transformed1']= np.log(data.price_transformed)"
   ]
  },
  {
   "cell_type": "code",
   "execution_count": 53,
   "id": "8d06548d",
   "metadata": {},
   "outputs": [
    {
     "data": {
      "text/plain": [
       "0.33092530655758573"
      ]
     },
     "execution_count": 53,
     "metadata": {},
     "output_type": "execute_result"
    }
   ],
   "source": [
    "data.price_transformed1.skew()"
   ]
  },
  {
   "cell_type": "code",
   "execution_count": null,
   "id": "466bfadf",
   "metadata": {},
   "outputs": [],
   "source": [
    "list_3 = find_anomalies(data.price_transformed)"
   ]
  },
  {
   "cell_type": "code",
   "execution_count": 55,
   "id": "daf801c0",
   "metadata": {},
   "outputs": [
    {
     "data": {
      "text/plain": [
       "266"
      ]
     },
     "execution_count": 55,
     "metadata": {},
     "output_type": "execute_result"
    }
   ],
   "source": [
    "len(list_3)"
   ]
  },
  {
   "cell_type": "code",
   "execution_count": 56,
   "id": "73f971bd",
   "metadata": {},
   "outputs": [
    {
     "data": {
      "text/plain": [
       "<Axes: xlabel='price_transformed1', ylabel='Density'>"
      ]
     },
     "execution_count": 56,
     "metadata": {},
     "output_type": "execute_result"
    },
    {
     "data": {
      "image/png": "[encoded data removed]",
      "text/plain": [
       "<Figure size 640x480 with 1 Axes>"
      ]
     },
     "metadata": {},
     "output_type": "display_data"
    }
   ],
   "source": [
    "sns.kdeplot(data.price_transformed1)"
   ]
  },
  {
   "cell_type": "markdown",
   "id": "fb0b1790",
   "metadata": {},
   "source": [
    "Boxplot"
   ]
  },
  {
   "cell_type": "code",
   "execution_count": 57,
   "id": "02c03fca",
   "metadata": {},
   "outputs": [],
   "source": [
    "import matplotlib.pyplot as plt\n",
    "import seaborn as sns"
   ]
  },
  {
   "cell_type": "code",
   "execution_count": 58,
   "id": "b7beedec",
   "metadata": {},
   "outputs": [
    {
     "data": {
      "text/plain": [
       "<Axes: >"
      ]
     },
     "execution_count": 58,
     "metadata": {},
     "output_type": "execute_result"
    },
    {
     "data": {
      "image/png": "[encoded data removed]",
      "text/plain": [
       "<Figure size 640x480 with 1 Axes>"
      ]
     },
     "metadata": {},
     "output_type": "display_data"
    }
   ],
   "source": [
    "sns.boxplot(data=data)"
   ]
  },
  {
   "cell_type": "code",
   "execution_count": 59,
   "id": "7197ffe2",
   "metadata": {},
   "outputs": [],
   "source": [
    "df = pd.DataFrame(data)\n"
   ]
  },
  {
   "cell_type": "code",
   "execution_count": 60,
   "id": "67d9a510",
   "metadata": {},
   "outputs": [
    {
     "data": {
      "text/html": [
       "<div>\n",
       "<style scoped>\n",
       "    .dataframe tbody tr th:only-of-type {\n",
       "        vertical-align: middle;\n",
       "    }\n",
       "\n",
       "    .dataframe tbody tr th {\n",
       "        vertical-align: top;\n",
       "    }\n",
       "\n",
       "    .dataframe thead th {\n",
       "        text-align: right;\n",
       "    }\n",
       "</style>\n",
       "<table border=\"1\" class=\"dataframe\">\n",
       "  <thead>\n",
       "    <tr style=\"text-align: right;\">\n",
       "      <th></th>\n",
       "      <th>postcode</th>\n",
       "      <th>price</th>\n",
       "      <th>bedrooms</th>\n",
       "      <th>price_transformed</th>\n",
       "      <th>price_transformed1</th>\n",
       "      <th>price_transformed_double</th>\n",
       "    </tr>\n",
       "  </thead>\n",
       "  <tbody>\n",
       "    <tr>\n",
       "      <th>count</th>\n",
       "      <td>29580.000000</td>\n",
       "      <td>2.958000e+04</td>\n",
       "      <td>29580.000000</td>\n",
       "      <td>29580.000000</td>\n",
       "      <td>29580.000000</td>\n",
       "      <td>29580.000000</td>\n",
       "    </tr>\n",
       "    <tr>\n",
       "      <th>mean</th>\n",
       "      <td>2730.249730</td>\n",
       "      <td>6.097363e+05</td>\n",
       "      <td>3.250169</td>\n",
       "      <td>13.244695</td>\n",
       "      <td>2.583199</td>\n",
       "      <td>2.583199</td>\n",
       "    </tr>\n",
       "    <tr>\n",
       "      <th>std</th>\n",
       "      <td>146.717292</td>\n",
       "      <td>2.817079e+05</td>\n",
       "      <td>0.951275</td>\n",
       "      <td>0.375214</td>\n",
       "      <td>0.028183</td>\n",
       "      <td>0.028183</td>\n",
       "    </tr>\n",
       "    <tr>\n",
       "      <th>min</th>\n",
       "      <td>2600.000000</td>\n",
       "      <td>5.650000e+04</td>\n",
       "      <td>0.000000</td>\n",
       "      <td>10.941996</td>\n",
       "      <td>2.392608</td>\n",
       "      <td>2.392608</td>\n",
       "    </tr>\n",
       "    <tr>\n",
       "      <th>25%</th>\n",
       "      <td>2607.000000</td>\n",
       "      <td>4.400000e+05</td>\n",
       "      <td>3.000000</td>\n",
       "      <td>12.994530</td>\n",
       "      <td>2.564529</td>\n",
       "      <td>2.564529</td>\n",
       "    </tr>\n",
       "    <tr>\n",
       "      <th>50%</th>\n",
       "      <td>2615.000000</td>\n",
       "      <td>5.500000e+05</td>\n",
       "      <td>3.000000</td>\n",
       "      <td>13.217674</td>\n",
       "      <td>2.581555</td>\n",
       "      <td>2.581555</td>\n",
       "    </tr>\n",
       "    <tr>\n",
       "      <th>75%</th>\n",
       "      <td>2905.000000</td>\n",
       "      <td>7.050000e+05</td>\n",
       "      <td>4.000000</td>\n",
       "      <td>13.465953</td>\n",
       "      <td>2.600165</td>\n",
       "      <td>2.600165</td>\n",
       "    </tr>\n",
       "    <tr>\n",
       "      <th>max</th>\n",
       "      <td>2914.000000</td>\n",
       "      <td>8.000000e+06</td>\n",
       "      <td>5.000000</td>\n",
       "      <td>15.894952</td>\n",
       "      <td>2.766002</td>\n",
       "      <td>2.766002</td>\n",
       "    </tr>\n",
       "  </tbody>\n",
       "</table>\n",
       "</div>"
      ],
      "text/plain": [
       "           postcode         price      bedrooms  price_transformed  \\\n",
       "count  29580.000000  2.958000e+04  29580.000000       29580.000000   \n",
       "mean    2730.249730  6.097363e+05      3.250169          13.244695   \n",
       "std      146.717292  2.817079e+05      0.951275           0.375214   \n",
       "min     2600.000000  5.650000e+04      0.000000          10.941996   \n",
       "25%     2607.000000  4.400000e+05      3.000000          12.994530   \n",
       "50%     2615.000000  5.500000e+05      3.000000          13.217674   \n",
       "75%     2905.000000  7.050000e+05      4.000000          13.465953   \n",
       "max     2914.000000  8.000000e+06      5.000000          15.894952   \n",
       "\n",
       "       price_transformed1  price_transformed_double  \n",
       "count        29580.000000              29580.000000  \n",
       "mean             2.583199                  2.583199  \n",
       "std              0.028183                  0.028183  \n",
       "min              2.392608                  2.392608  \n",
       "25%              2.564529                  2.564529  \n",
       "50%              2.581555                  2.581555  \n",
       "75%              2.600165                  2.600165  \n",
       "max              2.766002                  2.766002  "
      ]
     },
     "execution_count": 60,
     "metadata": {},
     "output_type": "execute_result"
    }
   ],
   "source": [
    "df.describe()"
   ]
  },
  {
   "cell_type": "markdown",
   "id": "84f23c9c",
   "metadata": {},
   "source": [
    "Inter Quartile Range\n",
    "\n",
    "IQR = Q3-Q1"
   ]
  },
  {
   "cell_type": "code",
   "execution_count": 62,
   "id": "e9959dbc",
   "metadata": {},
   "outputs": [],
   "source": [
    "list1 = [43, 54, 56, 61, 62, 66, 68, 69, 69, 70, 71, 72, 77, 78, 79, 85, 87, 88, 89, 93, 95, 96, 98, 99, 99]"
   ]
  },
  {
   "cell_type": "code",
   "execution_count": 63,
   "id": "6afdd16f",
   "metadata": {},
   "outputs": [
    {
     "data": {
      "text/plain": [
       "25"
      ]
     },
     "execution_count": 63,
     "metadata": {},
     "output_type": "execute_result"
    }
   ],
   "source": [
    "len(list1)"
   ]
  },
  {
   "cell_type": "code",
   "execution_count": 64,
   "id": "3084cf61",
   "metadata": {},
   "outputs": [
    {
     "data": {
      "text/plain": [
       "99"
      ]
     },
     "execution_count": 64,
     "metadata": {},
     "output_type": "execute_result"
    }
   ],
   "source": [
    "max(list1)"
   ]
  },
  {
   "cell_type": "code",
   "execution_count": 65,
   "id": "dcb21946",
   "metadata": {},
   "outputs": [
    {
     "data": {
      "text/plain": [
       "43"
      ]
     },
     "execution_count": 65,
     "metadata": {},
     "output_type": "execute_result"
    }
   ],
   "source": [
    "min(list1)"
   ]
  },
  {
   "cell_type": "code",
   "execution_count": 66,
   "id": "4fdea6ad",
   "metadata": {},
   "outputs": [
    {
     "data": {
      "text/plain": [
       "76.96"
      ]
     },
     "execution_count": 66,
     "metadata": {},
     "output_type": "execute_result"
    }
   ],
   "source": [
    "import statistics\n",
    "\n",
    "statistics.mean(list1)"
   ]
  },
  {
   "cell_type": "code",
   "execution_count": 67,
   "id": "ae45f067",
   "metadata": {},
   "outputs": [
    {
     "data": {
      "text/plain": [
       "[43,\n",
       " 54,\n",
       " 56,\n",
       " 61,\n",
       " 62,\n",
       " 66,\n",
       " 68,\n",
       " 69,\n",
       " 69,\n",
       " 70,\n",
       " 71,\n",
       " 72,\n",
       " 77,\n",
       " 78,\n",
       " 79,\n",
       " 85,\n",
       " 87,\n",
       " 88,\n",
       " 89,\n",
       " 93,\n",
       " 95,\n",
       " 96,\n",
       " 98,\n",
       " 99,\n",
       " 99]"
      ]
     },
     "execution_count": 67,
     "metadata": {},
     "output_type": "execute_result"
    }
   ],
   "source": [
    "sorted(list1)"
   ]
  },
  {
   "cell_type": "markdown",
   "id": "a4eb9cea",
   "metadata": {},
   "source": [
    "To find the 90th percentile for these (ordered) scores, start by multiplying 90 percent times the total number of scores, which gives 90% ∗ 25 = 0.90 ∗ 25 = 22.5 (the index). Rounding up to the nearest whole number, you get 23."
   ]
  },
  {
   "cell_type": "code",
   "execution_count": 68,
   "id": "23d9790d",
   "metadata": {},
   "outputs": [],
   "source": [
    "list2 = sorted(list1)"
   ]
  },
  {
   "cell_type": "code",
   "execution_count": 69,
   "id": "9319f3d4",
   "metadata": {},
   "outputs": [
    {
     "data": {
      "text/plain": [
       "[43,\n",
       " 54,\n",
       " 56,\n",
       " 61,\n",
       " 62,\n",
       " 66,\n",
       " 68,\n",
       " 69,\n",
       " 69,\n",
       " 70,\n",
       " 71,\n",
       " 72,\n",
       " 77,\n",
       " 78,\n",
       " 79,\n",
       " 85,\n",
       " 87,\n",
       " 88,\n",
       " 89,\n",
       " 93,\n",
       " 95,\n",
       " 96,\n",
       " 98,\n",
       " 99,\n",
       " 99]"
      ]
     },
     "execution_count": 69,
     "metadata": {},
     "output_type": "execute_result"
    }
   ],
   "source": [
    "list2"
   ]
  },
  {
   "cell_type": "markdown",
   "id": "f51b3ddd",
   "metadata": {},
   "source": [
    "Hence, 98 is the 90th percentile for this dataset"
   ]
  },
  {
   "cell_type": "markdown",
   "id": "3ed245b2",
   "metadata": {},
   "source": [
    "Now say you want to find the 20th percentile. Start by taking 0.20 x 25 = 5 (the index); this is a whole number, which tells you the 20th percentile is the average of the 5th and 6th values in the ordered data set (62 and 66)."
   ]
  },
  {
   "cell_type": "markdown",
   "id": "261ee851",
   "metadata": {},
   "source": [
    "so, 20th percentile is 62+66/2 = 64"
   ]
  },
  {
   "cell_type": "markdown",
   "id": "2f4bd606",
   "metadata": {},
   "source": [
    "The median (the 50th percentile) for the test scores is the 13th score: 77."
   ]
  },
  {
   "cell_type": "code",
   "execution_count": null,
   "id": "f672b865",
   "metadata": {},
   "outputs": [],
   "source": []
  },
  {
   "cell_type": "code",
   "execution_count": null,
   "id": "0704ebf3",
   "metadata": {},
   "outputs": [],
   "source": []
  },
  {
   "cell_type": "code",
   "execution_count": null,
   "id": "877691f6",
   "metadata": {},
   "outputs": [],
   "source": []
  },
  {
   "cell_type": "code",
   "execution_count": null,
   "id": "257bedb9",
   "metadata": {},
   "outputs": [],
   "source": []
  }
 ],
 "metadata": {
  "kernelspec": {
   "display_name": "Python 3",
   "language": "python",
   "name": "python3"
  },
  "language_info": {
   "codemirror_mode": {
    "name": "ipython",
    "version": 3
   },
   "file_extension": ".py",
   "mimetype": "text/x-python",
   "name": "python",
   "nbconvert_exporter": "python",
   "pygments_lexer": "ipython3",
   "version": "3.10.9"
  }
 },
 "nbformat": 4,
 "nbformat_minor": 5
}
